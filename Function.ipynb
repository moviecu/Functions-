{
 "cells": [
  {
   "cell_type": "markdown",
   "metadata": {},
   "source": [
    "# Practical Questions"
   ]
  },
  {
   "cell_type": "markdown",
   "metadata": {},
   "source": [
    "1. Write a Python function that takes a list of numbers as input and returns the sum of all even numbers in the list."
   ]
  },
  {
   "cell_type": "code",
   "execution_count": 2,
   "metadata": {},
   "outputs": [
    {
     "name": "stdout",
     "output_type": "stream",
     "text": [
      "20\n"
     ]
    }
   ],
   "source": [
    "def sum_of_evens(numbers):\n",
    "    return sum( num for num in numbers if num% 2==0)\n",
    "\n",
    "\n",
    "# Example Usage \n",
    "numbers=[1,2,3,4,5,6,7,8]\n",
    "print(sum_of_evens(numbers)) # Output: 12"
   ]
  },
  {
   "cell_type": "markdown",
   "metadata": {},
   "source": [
    "2. Create a Python function that accepts a string and returns the reverse of that string."
   ]
  },
  {
   "cell_type": "code",
   "execution_count": 4,
   "metadata": {},
   "outputs": [
    {
     "name": "stdout",
     "output_type": "stream",
     "text": [
      "ramukkeviv\n"
     ]
    }
   ],
   "source": [
    "def reverse_string(s):\n",
    "    return s[::-1]\n",
    "\n",
    "# Example Usage:\n",
    "print(reverse_string(\"vivekkumar\")) # Output: ramukkeviv"
   ]
  },
  {
   "cell_type": "markdown",
   "metadata": {},
   "source": [
    "3. Implement a Python function that takes a list of integers and returns a new list containing the squares of each number."
   ]
  },
  {
   "cell_type": "code",
   "execution_count": 5,
   "metadata": {},
   "outputs": [
    {
     "name": "stdout",
     "output_type": "stream",
     "text": [
      "[1, 4, 9, 16]\n"
     ]
    }
   ],
   "source": [
    "def squares(numbers):\n",
    "    return[ x*x for x in numbers]\n",
    "\n",
    "\n",
    "# Example usage\n",
    "numbers=[1,2,3,4]\n",
    "print(squares(numbers)) # Output:[1,4,9,16]"
   ]
  },
  {
   "cell_type": "markdown",
   "metadata": {},
   "source": [
    "4. Write a Python function that checks if a given number is prime or not from 1 to 200."
   ]
  },
  {
   "cell_type": "code",
   "execution_count": 6,
   "metadata": {},
   "outputs": [
    {
     "name": "stdout",
     "output_type": "stream",
     "text": [
      "1 is prime: False\n",
      "2 is prime: True\n",
      "3 is prime: True\n",
      "4 is prime: False\n",
      "5 is prime: True\n",
      "6 is prime: False\n",
      "7 is prime: True\n",
      "8 is prime: False\n",
      "9 is prime: False\n",
      "10 is prime: False\n",
      "11 is prime: True\n",
      "12 is prime: False\n",
      "13 is prime: True\n",
      "14 is prime: False\n",
      "15 is prime: False\n",
      "16 is prime: False\n",
      "17 is prime: True\n",
      "18 is prime: False\n",
      "19 is prime: True\n",
      "20 is prime: False\n",
      "21 is prime: False\n",
      "22 is prime: False\n",
      "23 is prime: True\n",
      "24 is prime: False\n",
      "25 is prime: False\n",
      "26 is prime: False\n",
      "27 is prime: False\n",
      "28 is prime: False\n",
      "29 is prime: True\n",
      "30 is prime: False\n",
      "31 is prime: True\n",
      "32 is prime: False\n",
      "33 is prime: False\n",
      "34 is prime: False\n",
      "35 is prime: False\n",
      "36 is prime: False\n",
      "37 is prime: True\n",
      "38 is prime: False\n",
      "39 is prime: False\n",
      "40 is prime: False\n",
      "41 is prime: True\n",
      "42 is prime: False\n",
      "43 is prime: True\n",
      "44 is prime: False\n",
      "45 is prime: False\n",
      "46 is prime: False\n",
      "47 is prime: True\n",
      "48 is prime: False\n",
      "49 is prime: False\n",
      "50 is prime: False\n",
      "51 is prime: False\n",
      "52 is prime: False\n",
      "53 is prime: True\n",
      "54 is prime: False\n",
      "55 is prime: False\n",
      "56 is prime: False\n",
      "57 is prime: False\n",
      "58 is prime: False\n",
      "59 is prime: True\n",
      "60 is prime: False\n",
      "61 is prime: True\n",
      "62 is prime: False\n",
      "63 is prime: False\n",
      "64 is prime: False\n",
      "65 is prime: False\n",
      "66 is prime: False\n",
      "67 is prime: True\n",
      "68 is prime: False\n",
      "69 is prime: False\n",
      "70 is prime: False\n",
      "71 is prime: True\n",
      "72 is prime: False\n",
      "73 is prime: True\n",
      "74 is prime: False\n",
      "75 is prime: False\n",
      "76 is prime: False\n",
      "77 is prime: False\n",
      "78 is prime: False\n",
      "79 is prime: True\n",
      "80 is prime: False\n",
      "81 is prime: False\n",
      "82 is prime: False\n",
      "83 is prime: True\n",
      "84 is prime: False\n",
      "85 is prime: False\n",
      "86 is prime: False\n",
      "87 is prime: False\n",
      "88 is prime: False\n",
      "89 is prime: True\n",
      "90 is prime: False\n",
      "91 is prime: False\n",
      "92 is prime: False\n",
      "93 is prime: False\n",
      "94 is prime: False\n",
      "95 is prime: False\n",
      "96 is prime: False\n",
      "97 is prime: True\n",
      "98 is prime: False\n",
      "99 is prime: False\n",
      "100 is prime: False\n",
      "101 is prime: True\n",
      "102 is prime: False\n",
      "103 is prime: True\n",
      "104 is prime: False\n",
      "105 is prime: False\n",
      "106 is prime: False\n",
      "107 is prime: True\n",
      "108 is prime: False\n",
      "109 is prime: True\n",
      "110 is prime: False\n",
      "111 is prime: False\n",
      "112 is prime: False\n",
      "113 is prime: True\n",
      "114 is prime: False\n",
      "115 is prime: False\n",
      "116 is prime: False\n",
      "117 is prime: False\n",
      "118 is prime: False\n",
      "119 is prime: False\n",
      "120 is prime: False\n",
      "121 is prime: False\n",
      "122 is prime: False\n",
      "123 is prime: False\n",
      "124 is prime: False\n",
      "125 is prime: False\n",
      "126 is prime: False\n",
      "127 is prime: True\n",
      "128 is prime: False\n",
      "129 is prime: False\n",
      "130 is prime: False\n",
      "131 is prime: True\n",
      "132 is prime: False\n",
      "133 is prime: False\n",
      "134 is prime: False\n",
      "135 is prime: False\n",
      "136 is prime: False\n",
      "137 is prime: True\n",
      "138 is prime: False\n",
      "139 is prime: True\n",
      "140 is prime: False\n",
      "141 is prime: False\n",
      "142 is prime: False\n",
      "143 is prime: False\n",
      "144 is prime: False\n",
      "145 is prime: False\n",
      "146 is prime: False\n",
      "147 is prime: False\n",
      "148 is prime: False\n",
      "149 is prime: True\n",
      "150 is prime: False\n",
      "151 is prime: True\n",
      "152 is prime: False\n",
      "153 is prime: False\n",
      "154 is prime: False\n",
      "155 is prime: False\n",
      "156 is prime: False\n",
      "157 is prime: True\n",
      "158 is prime: False\n",
      "159 is prime: False\n",
      "160 is prime: False\n",
      "161 is prime: False\n",
      "162 is prime: False\n",
      "163 is prime: True\n",
      "164 is prime: False\n",
      "165 is prime: False\n",
      "166 is prime: False\n",
      "167 is prime: True\n",
      "168 is prime: False\n",
      "169 is prime: False\n",
      "170 is prime: False\n",
      "171 is prime: False\n",
      "172 is prime: False\n",
      "173 is prime: True\n",
      "174 is prime: False\n",
      "175 is prime: False\n",
      "176 is prime: False\n",
      "177 is prime: False\n",
      "178 is prime: False\n",
      "179 is prime: True\n",
      "180 is prime: False\n",
      "181 is prime: True\n",
      "182 is prime: False\n",
      "183 is prime: False\n",
      "184 is prime: False\n",
      "185 is prime: False\n",
      "186 is prime: False\n",
      "187 is prime: False\n",
      "188 is prime: False\n",
      "189 is prime: False\n",
      "190 is prime: False\n",
      "191 is prime: True\n",
      "192 is prime: False\n",
      "193 is prime: True\n",
      "194 is prime: False\n",
      "195 is prime: False\n",
      "196 is prime: False\n",
      "197 is prime: True\n",
      "198 is prime: False\n",
      "199 is prime: True\n",
      "200 is prime: False\n"
     ]
    }
   ],
   "source": [
    "def is_prime(n):\n",
    "    if n <= 1:\n",
    "        return False\n",
    "    for i in range(2, int(n**0.5) + 1):\n",
    "        if n % i == 0:\n",
    "            return False\n",
    "    return True\n",
    "\n",
    "# Example usage\n",
    "for num in range(1, 201):\n",
    "    print(f\"{num} is prime: {is_prime(num)}\")"
   ]
  },
  {
   "cell_type": "markdown",
   "metadata": {},
   "source": [
    "5. Create an iterator class in Python that generates the Fibonacci sequence up to a specified number of terms."
   ]
  },
  {
   "cell_type": "code",
   "execution_count": 7,
   "metadata": {},
   "outputs": [
    {
     "name": "stdout",
     "output_type": "stream",
     "text": [
      "0\n",
      "1\n",
      "1\n",
      "2\n",
      "3\n",
      "5\n",
      "8\n",
      "13\n",
      "21\n",
      "34\n"
     ]
    }
   ],
   "source": [
    "# Generator to produce Fibonacci sequence\n",
    "def fibonacci(n):\n",
    "    a, b = 0, 1\n",
    "    for _ in range(n):\n",
    "        yield a\n",
    "        a, b = b, a + b\n",
    "\n",
    "for num in fibonacci(10):\n",
    "    print(num)  # Output: 0 1 1 2 3 5 8 13 21 34\n"
   ]
  },
  {
   "cell_type": "markdown",
   "metadata": {},
   "source": [
    "6. Write a generator function in Python that yields the powers of 2 up to a given exponent."
   ]
  },
  {
   "cell_type": "code",
   "execution_count": 9,
   "metadata": {},
   "outputs": [
    {
     "name": "stdout",
     "output_type": "stream",
     "text": [
      "1\n",
      "2\n",
      "4\n",
      "8\n",
      "16\n",
      "32\n"
     ]
    }
   ],
   "source": [
    "def power_of_two(max_exponent):\n",
    "    for exponent in range(max_exponent+1):\n",
    "        yield 2**exponent\n",
    "\n",
    "# Example usage\n",
    "for power in power_of_two(5):\n",
    "    print(power) # Output: 1,2,4,8,16,32"
   ]
  },
  {
   "cell_type": "markdown",
   "metadata": {},
   "source": [
    "7. Implement a generator function that reads a file line by line and yields each line as a string."
   ]
  },
  {
   "cell_type": "code",
   "execution_count": null,
   "metadata": {},
   "outputs": [],
   "source": [
    "def read_lines(file_path):\n",
    "    with open(file_path, \"r\") as files:\n",
    "        for line in file:\n",
    "            yield line.strip()\n",
    "\n",
    "#Exanple usage\n",
    "# for line in read_lines(\"file.txt\"):\n",
    "#     print(line)"
   ]
  },
  {
   "cell_type": "markdown",
   "metadata": {},
   "source": [
    "8. Use a lambda function in Python to sort a list of tuples based on the second element of each tuple."
   ]
  },
  {
   "cell_type": "code",
   "execution_count": 12,
   "metadata": {},
   "outputs": [
    {
     "name": "stdout",
     "output_type": "stream",
     "text": [
      "Sorted List of Tuples: [(4, 1), (1, 2), (2, 3), (3, 4)]\n"
     ]
    }
   ],
   "source": [
    "# List of tuples\n",
    "tuples_list = [(2, 3), (1, 2), (4, 1), (3, 4)]\n",
    "\n",
    "# Sorting the list of tuples based on the second element of each tuple\n",
    "sorted_list = sorted(tuples_list, key=lambda x: x[1])\n",
    "\n",
    "# Printing the sorted list\n",
    "print(\"Sorted List of Tuples:\", sorted_list)\n"
   ]
  },
  {
   "cell_type": "markdown",
   "metadata": {},
   "source": [
    "9. Write a Python program that uses map() to convert a list of temperatures from Celsius to Fahrenheit."
   ]
  },
  {
   "cell_type": "code",
   "execution_count": 14,
   "metadata": {},
   "outputs": [
    {
     "name": "stdout",
     "output_type": "stream",
     "text": [
      "[32.0, 68.0, 86.0, 104.0]\n"
     ]
    }
   ],
   "source": [
    "def celsisus_to_fahrenheit(c):\n",
    "    return(c*9/5)+32\n",
    "\n",
    "celsius= [0,20,30,40,]\n",
    "fahrenheit=list(map(celsisus_to_fahrenheit,celsius))\n",
    "print(fahrenheit) # Output: [32.0, 68.0, 86.0, 104.0]"
   ]
  },
  {
   "cell_type": "markdown",
   "metadata": {},
   "source": [
    "10. Create a Python program that uses filter() to remove all the vowels from a given string."
   ]
  },
  {
   "cell_type": "code",
   "execution_count": 16,
   "metadata": {},
   "outputs": [
    {
     "name": "stdout",
     "output_type": "stream",
     "text": [
      "hll vvk\n"
     ]
    }
   ],
   "source": [
    "def is_consonant(char):\n",
    "    return char.lower() not in \"aeiou\"\n",
    "\n",
    "def remove_vowels(s):\n",
    "    return ''.join(filter(is_consonant,s))\n",
    "\n",
    "# Exmaple usage\n",
    "print(remove_vowels(\"hello vivek\")) # Output: 'hll vvk'"
   ]
  },
  {
   "cell_type": "markdown",
   "metadata": {},
   "source": [
    "11. Imagine an accounting routine used in a bookshop. It works on a list with sublists, which look like this:\n",
    "Write a Python program, which returns a list with 2-tuples. Each tuple consists of the order number and the product of the price per item and the quantity. The product should be increased by €10 if the value of the order is smaller than €100."
   ]
  },
  {
   "cell_type": "code",
   "execution_count": 17,
   "metadata": {},
   "outputs": [
    {
     "name": "stdout",
     "output_type": "stream",
     "text": [
      "[(34587, 163.8), (98762, 284.0), (77226, 108.85000000000001), (88112, 84.97)]\n"
     ]
    }
   ],
   "source": [
    "# List of book orders\n",
    "orders = [\n",
    "    [34587, \"Learning Python, Mark Lutz\", 4, 40.95],\n",
    "    [98762, \"Programming Python, Mark Lutz\", 5, 56.80],\n",
    "    [77226, \"Head First Python, Paul Barry\", 3, 32.95],\n",
    "    [88112, \"Einführung in Python3, Bernd Klein\", 3, 24.99]\n",
    "]\n",
    "\n",
    "# Using lambda and map to process the orders\n",
    "result = list(map(lambda order: (order[0], order[2] * order[3] + (10 if order[2] * order[3] < 100 else 0)), orders))\n",
    "\n",
    "# Print the result\n",
    "print(result)"
   ]
  }
 ],
 "metadata": {
  "kernelspec": {
   "display_name": "Python 3",
   "language": "python",
   "name": "python3"
  },
  "language_info": {
   "codemirror_mode": {
    "name": "ipython",
    "version": 3
   },
   "file_extension": ".py",
   "mimetype": "text/x-python",
   "name": "python",
   "nbconvert_exporter": "python",
   "pygments_lexer": "ipython3",
   "version": "3.12.1"
  }
 },
 "nbformat": 4,
 "nbformat_minor": 2
}
